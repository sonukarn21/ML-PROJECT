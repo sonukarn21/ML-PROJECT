{
  "nbformat": 4,
  "nbformat_minor": 0,
  "metadata": {
    "colab": {
      "name": " Melbourne Housing dataset.ipynb",
      "provenance": [],
      "collapsed_sections": [],
      "authorship_tag": "ABX9TyMVwqr8qx7GlD0AEI8bHwmS",
      "include_colab_link": true
    },
    "kernelspec": {
      "name": "python3",
      "display_name": "Python 3"
    }
  },
  "cells": [
    {
      "cell_type": "markdown",
      "metadata": {
        "id": "view-in-github",
        "colab_type": "text"
      },
      "source": [
        "<a href=\"https://colab.research.google.com/github/sonukarn21/ML-PROJECT/blob/master/Melbourne_Housing_dataset.ipynb\" target=\"_parent\"><img src=\"https://colab.research.google.com/assets/colab-badge.svg\" alt=\"Open In Colab\"/></a>"
      ]
    },
    {
      "cell_type": "markdown",
      "metadata": {
        "id": "EAZhN6fUgyl-",
        "colab_type": "text"
      },
      "source": [
        "# ***Importing the dataset from the personal drive***\n",
        " dealing with missing values. Then you'll compare the effectiveness of these approaches on a real-world dataset.\n"
      ]
    },
    {
      "cell_type": "code",
      "metadata": {
        "id": "Q5WmGMlJhJNM",
        "colab_type": "code",
        "colab": {}
      },
      "source": [
        "import pandas as pd\n",
        "data= pd.read_csv(\"/content/melb_data.csv\")"
      ],
      "execution_count": null,
      "outputs": []
    },
    {
      "cell_type": "code",
      "metadata": {
        "id": "B_bnBbAliOve",
        "colab_type": "code",
        "colab": {
          "base_uri": "https://localhost:8080/",
          "height": 343
        },
        "outputId": "73a35041-2c0e-4057-a2d9-9ad3055aa60a"
      },
      "source": [
        "data.head(5)"
      ],
      "execution_count": null,
      "outputs": [
        {
          "output_type": "execute_result",
          "data": {
            "text/html": [
              "<div>\n",
              "<style scoped>\n",
              "    .dataframe tbody tr th:only-of-type {\n",
              "        vertical-align: middle;\n",
              "    }\n",
              "\n",
              "    .dataframe tbody tr th {\n",
              "        vertical-align: top;\n",
              "    }\n",
              "\n",
              "    .dataframe thead th {\n",
              "        text-align: right;\n",
              "    }\n",
              "</style>\n",
              "<table border=\"1\" class=\"dataframe\">\n",
              "  <thead>\n",
              "    <tr style=\"text-align: right;\">\n",
              "      <th></th>\n",
              "      <th>Suburb</th>\n",
              "      <th>Address</th>\n",
              "      <th>Rooms</th>\n",
              "      <th>Type</th>\n",
              "      <th>Price</th>\n",
              "      <th>Method</th>\n",
              "      <th>SellerG</th>\n",
              "      <th>Date</th>\n",
              "      <th>Distance</th>\n",
              "      <th>Postcode</th>\n",
              "      <th>Bedroom2</th>\n",
              "      <th>Bathroom</th>\n",
              "      <th>Car</th>\n",
              "      <th>Landsize</th>\n",
              "      <th>BuildingArea</th>\n",
              "      <th>YearBuilt</th>\n",
              "      <th>CouncilArea</th>\n",
              "      <th>Lattitude</th>\n",
              "      <th>Longtitude</th>\n",
              "      <th>Regionname</th>\n",
              "      <th>Propertycount</th>\n",
              "    </tr>\n",
              "  </thead>\n",
              "  <tbody>\n",
              "    <tr>\n",
              "      <th>0</th>\n",
              "      <td>Abbotsford</td>\n",
              "      <td>85 Turner St</td>\n",
              "      <td>2</td>\n",
              "      <td>h</td>\n",
              "      <td>1480000.0</td>\n",
              "      <td>S</td>\n",
              "      <td>Biggin</td>\n",
              "      <td>3/12/2016</td>\n",
              "      <td>2.5</td>\n",
              "      <td>3067.0</td>\n",
              "      <td>2.0</td>\n",
              "      <td>1.0</td>\n",
              "      <td>1.0</td>\n",
              "      <td>202.0</td>\n",
              "      <td>NaN</td>\n",
              "      <td>NaN</td>\n",
              "      <td>Yarra</td>\n",
              "      <td>-37.7996</td>\n",
              "      <td>144.9984</td>\n",
              "      <td>Northern Metropolitan</td>\n",
              "      <td>4019.0</td>\n",
              "    </tr>\n",
              "    <tr>\n",
              "      <th>1</th>\n",
              "      <td>Abbotsford</td>\n",
              "      <td>25 Bloomburg St</td>\n",
              "      <td>2</td>\n",
              "      <td>h</td>\n",
              "      <td>1035000.0</td>\n",
              "      <td>S</td>\n",
              "      <td>Biggin</td>\n",
              "      <td>4/02/2016</td>\n",
              "      <td>2.5</td>\n",
              "      <td>3067.0</td>\n",
              "      <td>2.0</td>\n",
              "      <td>1.0</td>\n",
              "      <td>0.0</td>\n",
              "      <td>156.0</td>\n",
              "      <td>79.0</td>\n",
              "      <td>1900.0</td>\n",
              "      <td>Yarra</td>\n",
              "      <td>-37.8079</td>\n",
              "      <td>144.9934</td>\n",
              "      <td>Northern Metropolitan</td>\n",
              "      <td>4019.0</td>\n",
              "    </tr>\n",
              "    <tr>\n",
              "      <th>2</th>\n",
              "      <td>Abbotsford</td>\n",
              "      <td>5 Charles St</td>\n",
              "      <td>3</td>\n",
              "      <td>h</td>\n",
              "      <td>1465000.0</td>\n",
              "      <td>SP</td>\n",
              "      <td>Biggin</td>\n",
              "      <td>4/03/2017</td>\n",
              "      <td>2.5</td>\n",
              "      <td>3067.0</td>\n",
              "      <td>3.0</td>\n",
              "      <td>2.0</td>\n",
              "      <td>0.0</td>\n",
              "      <td>134.0</td>\n",
              "      <td>150.0</td>\n",
              "      <td>1900.0</td>\n",
              "      <td>Yarra</td>\n",
              "      <td>-37.8093</td>\n",
              "      <td>144.9944</td>\n",
              "      <td>Northern Metropolitan</td>\n",
              "      <td>4019.0</td>\n",
              "    </tr>\n",
              "    <tr>\n",
              "      <th>3</th>\n",
              "      <td>Abbotsford</td>\n",
              "      <td>40 Federation La</td>\n",
              "      <td>3</td>\n",
              "      <td>h</td>\n",
              "      <td>850000.0</td>\n",
              "      <td>PI</td>\n",
              "      <td>Biggin</td>\n",
              "      <td>4/03/2017</td>\n",
              "      <td>2.5</td>\n",
              "      <td>3067.0</td>\n",
              "      <td>3.0</td>\n",
              "      <td>2.0</td>\n",
              "      <td>1.0</td>\n",
              "      <td>94.0</td>\n",
              "      <td>NaN</td>\n",
              "      <td>NaN</td>\n",
              "      <td>Yarra</td>\n",
              "      <td>-37.7969</td>\n",
              "      <td>144.9969</td>\n",
              "      <td>Northern Metropolitan</td>\n",
              "      <td>4019.0</td>\n",
              "    </tr>\n",
              "    <tr>\n",
              "      <th>4</th>\n",
              "      <td>Abbotsford</td>\n",
              "      <td>55a Park St</td>\n",
              "      <td>4</td>\n",
              "      <td>h</td>\n",
              "      <td>1600000.0</td>\n",
              "      <td>VB</td>\n",
              "      <td>Nelson</td>\n",
              "      <td>4/06/2016</td>\n",
              "      <td>2.5</td>\n",
              "      <td>3067.0</td>\n",
              "      <td>3.0</td>\n",
              "      <td>1.0</td>\n",
              "      <td>2.0</td>\n",
              "      <td>120.0</td>\n",
              "      <td>142.0</td>\n",
              "      <td>2014.0</td>\n",
              "      <td>Yarra</td>\n",
              "      <td>-37.8072</td>\n",
              "      <td>144.9941</td>\n",
              "      <td>Northern Metropolitan</td>\n",
              "      <td>4019.0</td>\n",
              "    </tr>\n",
              "  </tbody>\n",
              "</table>\n",
              "</div>"
            ],
            "text/plain": [
              "       Suburb           Address  ...             Regionname Propertycount\n",
              "0  Abbotsford      85 Turner St  ...  Northern Metropolitan        4019.0\n",
              "1  Abbotsford   25 Bloomburg St  ...  Northern Metropolitan        4019.0\n",
              "2  Abbotsford      5 Charles St  ...  Northern Metropolitan        4019.0\n",
              "3  Abbotsford  40 Federation La  ...  Northern Metropolitan        4019.0\n",
              "4  Abbotsford       55a Park St  ...  Northern Metropolitan        4019.0\n",
              "\n",
              "[5 rows x 21 columns]"
            ]
          },
          "metadata": {
            "tags": []
          },
          "execution_count": 6
        }
      ]
    },
    {
      "cell_type": "code",
      "metadata": {
        "id": "BMaGx17OjOtl",
        "colab_type": "code",
        "colab": {
          "base_uri": "https://localhost:8080/",
          "height": 119
        },
        "outputId": "0590d99d-5677-4c17-cfa6-bde6ff1c1a06"
      },
      "source": [
        "y=data.Price\n",
        "y.head(5)"
      ],
      "execution_count": null,
      "outputs": [
        {
          "output_type": "execute_result",
          "data": {
            "text/plain": [
              "0    1480000.0\n",
              "1    1035000.0\n",
              "2    1465000.0\n",
              "3     850000.0\n",
              "4    1600000.0\n",
              "Name: Price, dtype: float64"
            ]
          },
          "metadata": {
            "tags": []
          },
          "execution_count": 9
        }
      ]
    },
    {
      "cell_type": "markdown",
      "metadata": {
        "id": "BHV2piZajoPm",
        "colab_type": "text"
      },
      "source": [
        "To keep things simple , i ll use numerical predictator\n"
      ]
    },
    {
      "cell_type": "code",
      "metadata": {
        "id": "HskAoceCj6b7",
        "colab_type": "code",
        "colab": {
          "base_uri": "https://localhost:8080/",
          "height": 419
        },
        "outputId": "73d142d2-190a-42c6-dc40-7914792bc86e"
      },
      "source": [
        "malborn_predictors= data.drop(['Price'], axis=1)\n",
        "malborn_predictors\n",
        "X=malborn_predictors.select_dtypes(exclude=['object'])\n",
        "X"
      ],
      "execution_count": null,
      "outputs": [
        {
          "output_type": "execute_result",
          "data": {
            "text/html": [
              "<div>\n",
              "<style scoped>\n",
              "    .dataframe tbody tr th:only-of-type {\n",
              "        vertical-align: middle;\n",
              "    }\n",
              "\n",
              "    .dataframe tbody tr th {\n",
              "        vertical-align: top;\n",
              "    }\n",
              "\n",
              "    .dataframe thead th {\n",
              "        text-align: right;\n",
              "    }\n",
              "</style>\n",
              "<table border=\"1\" class=\"dataframe\">\n",
              "  <thead>\n",
              "    <tr style=\"text-align: right;\">\n",
              "      <th></th>\n",
              "      <th>Rooms</th>\n",
              "      <th>Distance</th>\n",
              "      <th>Postcode</th>\n",
              "      <th>Bedroom2</th>\n",
              "      <th>Bathroom</th>\n",
              "      <th>Car</th>\n",
              "      <th>Landsize</th>\n",
              "      <th>BuildingArea</th>\n",
              "      <th>YearBuilt</th>\n",
              "      <th>Lattitude</th>\n",
              "      <th>Longtitude</th>\n",
              "      <th>Propertycount</th>\n",
              "    </tr>\n",
              "  </thead>\n",
              "  <tbody>\n",
              "    <tr>\n",
              "      <th>0</th>\n",
              "      <td>2</td>\n",
              "      <td>2.5</td>\n",
              "      <td>3067.0</td>\n",
              "      <td>2.0</td>\n",
              "      <td>1.0</td>\n",
              "      <td>1.0</td>\n",
              "      <td>202.0</td>\n",
              "      <td>NaN</td>\n",
              "      <td>NaN</td>\n",
              "      <td>-37.79960</td>\n",
              "      <td>144.99840</td>\n",
              "      <td>4019.0</td>\n",
              "    </tr>\n",
              "    <tr>\n",
              "      <th>1</th>\n",
              "      <td>2</td>\n",
              "      <td>2.5</td>\n",
              "      <td>3067.0</td>\n",
              "      <td>2.0</td>\n",
              "      <td>1.0</td>\n",
              "      <td>0.0</td>\n",
              "      <td>156.0</td>\n",
              "      <td>79.0</td>\n",
              "      <td>1900.0</td>\n",
              "      <td>-37.80790</td>\n",
              "      <td>144.99340</td>\n",
              "      <td>4019.0</td>\n",
              "    </tr>\n",
              "    <tr>\n",
              "      <th>2</th>\n",
              "      <td>3</td>\n",
              "      <td>2.5</td>\n",
              "      <td>3067.0</td>\n",
              "      <td>3.0</td>\n",
              "      <td>2.0</td>\n",
              "      <td>0.0</td>\n",
              "      <td>134.0</td>\n",
              "      <td>150.0</td>\n",
              "      <td>1900.0</td>\n",
              "      <td>-37.80930</td>\n",
              "      <td>144.99440</td>\n",
              "      <td>4019.0</td>\n",
              "    </tr>\n",
              "    <tr>\n",
              "      <th>3</th>\n",
              "      <td>3</td>\n",
              "      <td>2.5</td>\n",
              "      <td>3067.0</td>\n",
              "      <td>3.0</td>\n",
              "      <td>2.0</td>\n",
              "      <td>1.0</td>\n",
              "      <td>94.0</td>\n",
              "      <td>NaN</td>\n",
              "      <td>NaN</td>\n",
              "      <td>-37.79690</td>\n",
              "      <td>144.99690</td>\n",
              "      <td>4019.0</td>\n",
              "    </tr>\n",
              "    <tr>\n",
              "      <th>4</th>\n",
              "      <td>4</td>\n",
              "      <td>2.5</td>\n",
              "      <td>3067.0</td>\n",
              "      <td>3.0</td>\n",
              "      <td>1.0</td>\n",
              "      <td>2.0</td>\n",
              "      <td>120.0</td>\n",
              "      <td>142.0</td>\n",
              "      <td>2014.0</td>\n",
              "      <td>-37.80720</td>\n",
              "      <td>144.99410</td>\n",
              "      <td>4019.0</td>\n",
              "    </tr>\n",
              "    <tr>\n",
              "      <th>...</th>\n",
              "      <td>...</td>\n",
              "      <td>...</td>\n",
              "      <td>...</td>\n",
              "      <td>...</td>\n",
              "      <td>...</td>\n",
              "      <td>...</td>\n",
              "      <td>...</td>\n",
              "      <td>...</td>\n",
              "      <td>...</td>\n",
              "      <td>...</td>\n",
              "      <td>...</td>\n",
              "      <td>...</td>\n",
              "    </tr>\n",
              "    <tr>\n",
              "      <th>13575</th>\n",
              "      <td>4</td>\n",
              "      <td>16.7</td>\n",
              "      <td>3150.0</td>\n",
              "      <td>4.0</td>\n",
              "      <td>2.0</td>\n",
              "      <td>2.0</td>\n",
              "      <td>652.0</td>\n",
              "      <td>NaN</td>\n",
              "      <td>1981.0</td>\n",
              "      <td>-37.90562</td>\n",
              "      <td>145.16761</td>\n",
              "      <td>7392.0</td>\n",
              "    </tr>\n",
              "    <tr>\n",
              "      <th>13576</th>\n",
              "      <td>3</td>\n",
              "      <td>6.8</td>\n",
              "      <td>3016.0</td>\n",
              "      <td>3.0</td>\n",
              "      <td>2.0</td>\n",
              "      <td>2.0</td>\n",
              "      <td>333.0</td>\n",
              "      <td>133.0</td>\n",
              "      <td>1995.0</td>\n",
              "      <td>-37.85927</td>\n",
              "      <td>144.87904</td>\n",
              "      <td>6380.0</td>\n",
              "    </tr>\n",
              "    <tr>\n",
              "      <th>13577</th>\n",
              "      <td>3</td>\n",
              "      <td>6.8</td>\n",
              "      <td>3016.0</td>\n",
              "      <td>3.0</td>\n",
              "      <td>2.0</td>\n",
              "      <td>4.0</td>\n",
              "      <td>436.0</td>\n",
              "      <td>NaN</td>\n",
              "      <td>1997.0</td>\n",
              "      <td>-37.85274</td>\n",
              "      <td>144.88738</td>\n",
              "      <td>6380.0</td>\n",
              "    </tr>\n",
              "    <tr>\n",
              "      <th>13578</th>\n",
              "      <td>4</td>\n",
              "      <td>6.8</td>\n",
              "      <td>3016.0</td>\n",
              "      <td>4.0</td>\n",
              "      <td>1.0</td>\n",
              "      <td>5.0</td>\n",
              "      <td>866.0</td>\n",
              "      <td>157.0</td>\n",
              "      <td>1920.0</td>\n",
              "      <td>-37.85908</td>\n",
              "      <td>144.89299</td>\n",
              "      <td>6380.0</td>\n",
              "    </tr>\n",
              "    <tr>\n",
              "      <th>13579</th>\n",
              "      <td>4</td>\n",
              "      <td>6.3</td>\n",
              "      <td>3013.0</td>\n",
              "      <td>4.0</td>\n",
              "      <td>1.0</td>\n",
              "      <td>1.0</td>\n",
              "      <td>362.0</td>\n",
              "      <td>112.0</td>\n",
              "      <td>1920.0</td>\n",
              "      <td>-37.81188</td>\n",
              "      <td>144.88449</td>\n",
              "      <td>6543.0</td>\n",
              "    </tr>\n",
              "  </tbody>\n",
              "</table>\n",
              "<p>13580 rows × 12 columns</p>\n",
              "</div>"
            ],
            "text/plain": [
              "       Rooms  Distance  Postcode  ...  Lattitude  Longtitude  Propertycount\n",
              "0          2       2.5    3067.0  ...  -37.79960   144.99840         4019.0\n",
              "1          2       2.5    3067.0  ...  -37.80790   144.99340         4019.0\n",
              "2          3       2.5    3067.0  ...  -37.80930   144.99440         4019.0\n",
              "3          3       2.5    3067.0  ...  -37.79690   144.99690         4019.0\n",
              "4          4       2.5    3067.0  ...  -37.80720   144.99410         4019.0\n",
              "...      ...       ...       ...  ...        ...         ...            ...\n",
              "13575      4      16.7    3150.0  ...  -37.90562   145.16761         7392.0\n",
              "13576      3       6.8    3016.0  ...  -37.85927   144.87904         6380.0\n",
              "13577      3       6.8    3016.0  ...  -37.85274   144.88738         6380.0\n",
              "13578      4       6.8    3016.0  ...  -37.85908   144.89299         6380.0\n",
              "13579      4       6.3    3013.0  ...  -37.81188   144.88449         6543.0\n",
              "\n",
              "[13580 rows x 12 columns]"
            ]
          },
          "metadata": {
            "tags": []
          },
          "execution_count": 12
        }
      ]
    },
    {
      "cell_type": "markdown",
      "metadata": {
        "id": "8LdNABl7-JmZ",
        "colab_type": "text"
      },
      "source": [
        "divide data into training and testing subset"
      ]
    },
    {
      "cell_type": "code",
      "metadata": {
        "id": "fexKOpQ69D_p",
        "colab_type": "code",
        "colab": {
          "base_uri": "https://localhost:8080/",
          "height": 527
        },
        "outputId": "8f355ced-69db-40cf-c1c5-9599371ecba7"
      },
      "source": [
        "from sklearn.model_selection import train_test_split\n",
        "train_X,test_X,train_y,test_y=train_test_split(X,y,train_size=0.8, test_size=0.2, random_state=0)\n",
        "print(\"train_X \\n\", train_X, end='\\n')\n",
        "print(\"test_X \\n\", test_X, end='\\n')"
      ],
      "execution_count": null,
      "outputs": [
        {
          "output_type": "stream",
          "text": [
            "train_X \n",
            "        Rooms  Distance  Postcode  ...  Lattitude  Longtitude  Propertycount\n",
            "12167      1       5.0    3182.0  ...  -37.85984   144.98670        13240.0\n",
            "6524       2       8.0    3016.0  ...  -37.85800   144.90050         6380.0\n",
            "8413       3      12.6    3020.0  ...  -37.79880   144.82200         3755.0\n",
            "2919       3      13.0    3046.0  ...  -37.70830   144.91580         8870.0\n",
            "6043       3      13.3    3020.0  ...  -37.76230   144.82720         4217.0\n",
            "...      ...       ...       ...  ...        ...         ...            ...\n",
            "13123      3       5.2    3056.0  ...  -37.77695   144.95785        11918.0\n",
            "3264       3      10.5    3081.0  ...  -37.74160   145.04810         2947.0\n",
            "9845       4       6.7    3058.0  ...  -37.73572   144.97256        11204.0\n",
            "10799      3      12.0    3073.0  ...  -37.72057   145.02615        21650.0\n",
            "2732       4       6.4    3011.0  ...  -37.79430   144.88750         7570.0\n",
            "\n",
            "[10864 rows x 12 columns]\n",
            "test_X \n",
            "        Rooms  Distance  Postcode  ...  Lattitude  Longtitude  Propertycount\n",
            "8505       4       8.0    3016.0  ...  -37.86100   144.89850         6380.0\n",
            "5523       2       6.6    3011.0  ...  -37.81000   144.88960         2417.0\n",
            "12852      3      10.5    3020.0  ...  -37.76740   144.82421         4217.0\n",
            "4818       3       4.5    3181.0  ...  -37.85260   145.00710         7717.0\n",
            "12812      3       8.5    3044.0  ...  -37.72523   144.94567         7485.0\n",
            "...      ...       ...       ...  ...        ...         ...            ...\n",
            "2664       2       6.4    3011.0  ...  -37.80140   144.89590         7570.0\n",
            "8513       4       8.0    3016.0  ...  -37.85790   144.87860         6380.0\n",
            "12922      3      10.8    3105.0  ...  -37.78094   145.10131         4480.0\n",
            "10761      4       6.2    3039.0  ...  -37.76421   144.90571         6232.0\n",
            "2110       2       1.6    3066.0  ...  -37.79620   144.98870         4553.0\n",
            "\n",
            "[2716 rows x 12 columns]\n"
          ],
          "name": "stdout"
        }
      ]
    },
    {
      "cell_type": "markdown",
      "metadata": {
        "id": "n3QS7XlRR9-X",
        "colab_type": "text"
      },
      "source": [
        "Define Function to Measure Quality of Each Approach"
      ]
    },
    {
      "cell_type": "code",
      "metadata": {
        "id": "SoYwD9BoSCE7",
        "colab_type": "code",
        "colab": {
          "base_uri": "https://localhost:8080/",
          "height": 34
        },
        "outputId": "ce2aa532-e9ab-437c-96e4-d766a14f16c8"
      },
      "source": [
        "from sklearn.ensemble import RandomForestRegressor\n",
        "from sklearn.metrics import mean_absolute_error\n",
        "# Function for comparing different approaches\n",
        "def secore_dataset(train_X, test_X, train_y,test_y):\n",
        "  model = RandomForestRegressor(n_estimators=10, random_state=0)\n",
        "  model.fit(train_X,train_y)\n",
        "  preds=model.predict(test_X)\n",
        "  return mean_absolute_error(test_y,preds)\n",
        "print(\"setup completed\")\n"
      ],
      "execution_count": null,
      "outputs": [
        {
          "output_type": "stream",
          "text": [
            "setup completed\n"
          ],
          "name": "stdout"
        }
      ]
    },
    {
      "cell_type": "code",
      "metadata": {
        "id": "VXNFzevBUhWd",
        "colab_type": "code",
        "colab": {
          "base_uri": "https://localhost:8080/",
          "height": 493
        },
        "outputId": "ba8345b9-af69-49a1-812c-444f54fc95fc"
      },
      "source": [
        "#select the column which have missing value\n",
        "# Get names of columns with missing values\n",
        "cols_with_missing = [col for col in train_X.columns\n",
        "                     if train_X[col].isnull().any()]\n",
        "cols_with_missing\n",
        "#drop column from training and testing data\n",
        "reduce_train_X=train_X.drop(cols_with_missing, axis=1)\n",
        "reduce_test_X=test_X.drop(cols_with_missing, axis=1)\n",
        "print(reduce_train_X)\n",
        "print(reduce_test_X)"
      ],
      "execution_count": null,
      "outputs": [
        {
          "output_type": "stream",
          "text": [
            "       Rooms  Distance  Postcode  ...  Lattitude  Longtitude  Propertycount\n",
            "12167      1       5.0    3182.0  ...  -37.85984   144.98670        13240.0\n",
            "6524       2       8.0    3016.0  ...  -37.85800   144.90050         6380.0\n",
            "8413       3      12.6    3020.0  ...  -37.79880   144.82200         3755.0\n",
            "2919       3      13.0    3046.0  ...  -37.70830   144.91580         8870.0\n",
            "6043       3      13.3    3020.0  ...  -37.76230   144.82720         4217.0\n",
            "...      ...       ...       ...  ...        ...         ...            ...\n",
            "13123      3       5.2    3056.0  ...  -37.77695   144.95785        11918.0\n",
            "3264       3      10.5    3081.0  ...  -37.74160   145.04810         2947.0\n",
            "9845       4       6.7    3058.0  ...  -37.73572   144.97256        11204.0\n",
            "10799      3      12.0    3073.0  ...  -37.72057   145.02615        21650.0\n",
            "2732       4       6.4    3011.0  ...  -37.79430   144.88750         7570.0\n",
            "\n",
            "[10864 rows x 9 columns]\n",
            "       Rooms  Distance  Postcode  ...  Lattitude  Longtitude  Propertycount\n",
            "8505       4       8.0    3016.0  ...  -37.86100   144.89850         6380.0\n",
            "5523       2       6.6    3011.0  ...  -37.81000   144.88960         2417.0\n",
            "12852      3      10.5    3020.0  ...  -37.76740   144.82421         4217.0\n",
            "4818       3       4.5    3181.0  ...  -37.85260   145.00710         7717.0\n",
            "12812      3       8.5    3044.0  ...  -37.72523   144.94567         7485.0\n",
            "...      ...       ...       ...  ...        ...         ...            ...\n",
            "2664       2       6.4    3011.0  ...  -37.80140   144.89590         7570.0\n",
            "8513       4       8.0    3016.0  ...  -37.85790   144.87860         6380.0\n",
            "12922      3      10.8    3105.0  ...  -37.78094   145.10131         4480.0\n",
            "10761      4       6.2    3039.0  ...  -37.76421   144.90571         6232.0\n",
            "2110       2       1.6    3066.0  ...  -37.79620   144.98870         4553.0\n",
            "\n",
            "[2716 rows x 9 columns]\n"
          ],
          "name": "stdout"
        }
      ]
    },
    {
      "cell_type": "code",
      "metadata": {
        "id": "qN0uWXA-h62c",
        "colab_type": "code",
        "colab": {
          "base_uri": "https://localhost:8080/",
          "height": 51
        },
        "outputId": "56ca666a-bbe6-46a6-b711-ede78ca8f8b2"
      },
      "source": [
        "print(\"MAE without  missing value column\")\n",
        "print (secore_dataset(reduce_train_X,reduce_test_X,train_y,test_y))"
      ],
      "execution_count": null,
      "outputs": [
        {
          "output_type": "stream",
          "text": [
            "MAE without  missing value column\n",
            "183550.22137772635\n"
          ],
          "name": "stdout"
        }
      ]
    },
    {
      "cell_type": "code",
      "metadata": {
        "id": "wBA9jtF2mJem",
        "colab_type": "code",
        "colab": {
          "base_uri": "https://localhost:8080/",
          "height": 493
        },
        "outputId": "5ec865a9-897c-48a7-d86f-52aee37926c7"
      },
      "source": [
        "from sklearn.impute import SimpleImputer\n",
        "my_imputer= SimpleImputer()#we use SimpleImputer to replace missing values with the mean value along each column.\n",
        "imp_train_X=pd.DataFrame(my_imputer.fit_transform(train_X))#we use SimpleImputer to replace missing values with the mean value along each column.\n",
        "imp_test_X=pd.DataFrame(my_imputer.transform(test_X))#we use SimpleImputer to replace missing values with the mean value along each column.\n",
        "print(imp_train_X)\n",
        "print(imp_test_X)"
      ],
      "execution_count": null,
      "outputs": [
        {
          "output_type": "stream",
          "text": [
            "        0     1       2    3   ...           8         9          10       11\n",
            "0      1.0   5.0  3182.0  1.0  ...  1940.000000 -37.85984  144.98670  13240.0\n",
            "1      2.0   8.0  3016.0  2.0  ...  1964.839866 -37.85800  144.90050   6380.0\n",
            "2      3.0  12.6  3020.0  3.0  ...  1964.839866 -37.79880  144.82200   3755.0\n",
            "3      3.0  13.0  3046.0  3.0  ...  1995.000000 -37.70830  144.91580   8870.0\n",
            "4      3.0  13.3  3020.0  3.0  ...  1970.000000 -37.76230  144.82720   4217.0\n",
            "...    ...   ...     ...  ...  ...          ...       ...        ...      ...\n",
            "10859  3.0   5.2  3056.0  3.0  ...  1964.839866 -37.77695  144.95785  11918.0\n",
            "10860  3.0  10.5  3081.0  3.0  ...  1950.000000 -37.74160  145.04810   2947.0\n",
            "10861  4.0   6.7  3058.0  4.0  ...  2002.000000 -37.73572  144.97256  11204.0\n",
            "10862  3.0  12.0  3073.0  3.0  ...  1964.839866 -37.72057  145.02615  21650.0\n",
            "10863  4.0   6.4  3011.0  4.0  ...  1915.000000 -37.79430  144.88750   7570.0\n",
            "\n",
            "[10864 rows x 12 columns]\n",
            "       0     1       2    3   ...           8         9          10      11\n",
            "0     4.0   8.0  3016.0  4.0  ...  1910.000000 -37.86100  144.89850  6380.0\n",
            "1     2.0   6.6  3011.0  2.0  ...  1900.000000 -37.81000  144.88960  2417.0\n",
            "2     3.0  10.5  3020.0  3.0  ...  1964.839866 -37.76740  144.82421  4217.0\n",
            "3     3.0   4.5  3181.0  2.0  ...  2000.000000 -37.85260  145.00710  7717.0\n",
            "4     3.0   8.5  3044.0  3.0  ...  1964.839866 -37.72523  144.94567  7485.0\n",
            "...   ...   ...     ...  ...  ...          ...       ...        ...     ...\n",
            "2711  2.0   6.4  3011.0  2.0  ...  2013.000000 -37.80140  144.89590  7570.0\n",
            "2712  4.0   8.0  3016.0  4.0  ...  1964.839866 -37.85790  144.87860  6380.0\n",
            "2713  3.0  10.8  3105.0  3.0  ...  1964.839866 -37.78094  145.10131  4480.0\n",
            "2714  4.0   6.2  3039.0  4.0  ...  1925.000000 -37.76421  144.90571  6232.0\n",
            "2715  2.0   1.6  3066.0  2.0  ...  1880.000000 -37.79620  144.98870  4553.0\n",
            "\n",
            "[2716 rows x 12 columns]\n"
          ],
          "name": "stdout"
        }
      ]
    },
    {
      "cell_type": "code",
      "metadata": {
        "id": "TMJLCM7Do67M",
        "colab_type": "code",
        "colab": {}
      },
      "source": [
        "imp_train_X.columns=train_X.columns\n",
        "imp_test_X.columns=test_X.columns\n",
        "#print(imp_train_X)\n",
        "#print(imp_test_X)"
      ],
      "execution_count": null,
      "outputs": []
    },
    {
      "cell_type": "code",
      "metadata": {
        "id": "kWzKO1TQpfjD",
        "colab_type": "code",
        "colab": {
          "base_uri": "https://localhost:8080/",
          "height": 51
        },
        "outputId": "10595664-e390-4f51-9460-8a089c71878f"
      },
      "source": [
        "print(\"MAE after applying imputation function\")\n",
        "print(secore_dataset(imp_train_X,imp_test_X,train_y, test_y))"
      ],
      "execution_count": null,
      "outputs": [
        {
          "output_type": "stream",
          "text": [
            "MAE after applying imputation function\n",
            "178166.46269899711\n"
          ],
          "name": "stdout"
        }
      ]
    },
    {
      "cell_type": "code",
      "metadata": {
        "id": "3w8J4RKUrMHB",
        "colab_type": "code",
        "colab": {
          "base_uri": "https://localhost:8080/",
          "height": 102
        },
        "outputId": "cb355a21-149f-4b4f-8e5c-3d4bc5b55cd6"
      },
      "source": [
        "print(train_X.shape)\n",
        "#Number of missing values in each column of training data\n",
        "missing_val_count_by_column = (train_X.isnull().sum())\n",
        "print(missing_val_count_by_column[missing_val_count_by_column > 0])"
      ],
      "execution_count": null,
      "outputs": [
        {
          "output_type": "stream",
          "text": [
            "(10864, 12)\n",
            "Car               49\n",
            "BuildingArea    5156\n",
            "YearBuilt       4307\n",
            "dtype: int64\n"
          ],
          "name": "stdout"
        }
      ]
    }
  ]
}